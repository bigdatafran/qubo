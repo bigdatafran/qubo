{
 "cells": [
  {
   "cell_type": "markdown",
   "metadata": {},
   "source": [
    "Para ver las condiciones del problema, ver el siguiente enlace:\n",
    "https://github.com/dwave-training/truck-packing"
   ]
  },
  {
   "cell_type": "code",
   "execution_count": 8,
   "metadata": {},
   "outputs": [],
   "source": [
    "from dimod import ConstrainedQuadraticModel, Binaries, quicksum \n",
    "from dwave.system import LeapHybridCQMSampler \n",
    "import random \n",
    "import numpy as np"
   ]
  },
  {
   "cell_type": "code",
   "execution_count": 9,
   "metadata": {},
   "outputs": [],
   "source": [
    "# Problem set up\n",
    "num_packages = 300\n",
    "\n",
    "# Priority of each package, 3 = high priority, 1 = low priority\n",
    "priority = random.choices((1, 2, 3), k=num_packages)\n",
    "\n",
    "# Number of days since each package was ordered (More days need to be\n",
    "# prioritized higher)\n",
    "days_since_order = random.choices((0, 1, 2, 3), k=num_packages)\n",
    "\n",
    "# Weight of each package\n",
    "weight = random.choices(range(1, 101), k=num_packages)\n",
    "\n",
    "# Maximum weight and number of packages the truck can handle\n",
    "max_weight = 3000  \n",
    "max_packages = 100\n",
    "\n",
    "# Weights for the objective functions\n",
    "obj_weight_priority = 1.0 \n",
    "obj_weight_days = 1.0"
   ]
  },
  {
   "cell_type": "code",
   "execution_count": 10,
   "metadata": {},
   "outputs": [],
   "source": [
    "# Build the CQM\n",
    "cqm = ConstrainedQuadraticModel()\n",
    "\n",
    "# Create the binary variables\n",
    "bin_variables = list(Binaries(range(num_packages)))"
   ]
  },
  {
   "cell_type": "code",
   "execution_count": 11,
   "metadata": {},
   "outputs": [],
   "source": [
    "# ----------------- Objective functions ----------------- \n",
    "\n",
    "# 1. Maximize priority shipping packages\n",
    "objective1 = -obj_weight_priority * quicksum(priority[i] * bin_variables[i] \n",
    "                for i in range(num_packages))\n",
    "\n",
    "# 2. Minimize customers wait time\n",
    "objective2 = -obj_weight_days * quicksum(days_since_order[i] * bin_variables[i]\n",
    "                for i in range(num_packages))\n",
    "\n",
    "# Add the objectives to the CQM\n",
    "cqm.set_objective(objective1 + objective2)"
   ]
  },
  {
   "cell_type": "code",
   "execution_count": 12,
   "metadata": {},
   "outputs": [
    {
     "data": {
      "text/plain": [
       "'max_packages'"
      ]
     },
     "execution_count": 12,
     "metadata": {},
     "output_type": "execute_result"
    }
   ],
   "source": [
    "# ----------------- Constraints ----------------- \n",
    "\n",
    "# Add the maximum capacity constraint\n",
    "cqm.add_constraint(quicksum(weight[i] * bin_variables[i] for i in\n",
    "range(num_packages)) <= max_weight, label='max_weight')\n",
    "\n",
    "# Add the maximum package (or truck size) constraint\n",
    "cqm.add_constraint(quicksum(bin_variables[i] for i in range(num_packages)) \n",
    "                    == max_packages, label='max_packages')"
   ]
  },
  {
   "cell_type": "code",
   "execution_count": 13,
   "metadata": {},
   "outputs": [],
   "source": [
    "# -----------------  Submit to the CQM sampler -----------------\n",
    "cqm_sampler = LeapHybridCQMSampler() \n",
    "sampleset = cqm_sampler.sample_cqm(cqm, label='Truck Packing Demo')"
   ]
  },
  {
   "cell_type": "code",
   "execution_count": 14,
   "metadata": {},
   "outputs": [
    {
     "name": "stdout",
     "output_type": "stream",
     "text": [
      "\n",
      "****************** PROBLEM ******************\n",
      "\n",
      "Days since order was placed\n",
      "Priority |    3    2    1    0\n",
      "----------------------------------------\n",
      "    3        31   15   27   32\n",
      "    2        32   19   30   36\n",
      "    1        17   20   21   20\n",
      "\n",
      "****************** SOLUTION ******************\n",
      "\n",
      "Days since order was placed\n",
      "Priority |    3    2    1    0\n",
      "----------------------------------------\n",
      "    3        30   13    8    5\n",
      "    2        22    7    2    0\n",
      "    1         8    5    0    0\n",
      "\n",
      "Total number of selected items: 100\n",
      "Total weight of selected items: 3000\n"
     ]
    }
   ],
   "source": [
    "# ----------------- Process the results -----------------\n",
    "feasible_sampleset = sampleset.filter(lambda d: d.is_feasible)\n",
    "\n",
    "if not len(feasible_sampleset): \n",
    "    print(\"\\nNo feasible solution found.\\n\")\n",
    "\n",
    "else: \n",
    "    first_feasible_sol = feasible_sampleset.first.sample\n",
    "\n",
    "    # Characterize the problem\n",
    "    problem_array = np.zeros((3, 4)).astype(int) \n",
    "    for i in range(num_packages):\n",
    "        problem_array[-1 * (priority[i]-3)][-1 * (days_since_order[i] - 3)] += 1\n",
    "\n",
    "    print(\"\\n****************** PROBLEM ******************\\n\") \n",
    "    print('Days since order was placed')\n",
    "    print('{:>5s}{:>5s}{:>5s}{:>5s}{:>5s}'.format('Priority |',\n",
    "             '3', '2', '1', '0')) \n",
    "    print('-' * 40)\n",
    "\n",
    "    for i in range(3): \n",
    "        print('{:>5s}{:>10s}{:>5s}{:>5s}{:>5s}'.format(str(-1*(i- 3)), \n",
    "                str(problem_array[i][0]), str(problem_array[i][1]),\n",
    "                str(problem_array[i][2]), str(problem_array[i][3])))\n",
    "\n",
    "    # Calculate number of packages with each priority and number of days since\n",
    "    # order in the solution\n",
    "    chosen = [i for i in first_feasible_sol if first_feasible_sol[i] == 1]\n",
    "    total_weight = quicksum(weight[i] for i in chosen) \n",
    "    solution_priorities = [priority[i] for i in chosen] \n",
    "    solution_days_since_order = [days_since_order[i] for i in chosen]\n",
    "\n",
    "    # Characterize the solution \n",
    "    # Packages with higher priority (upper row) and the most days since the\n",
    "    # order (left most column) should be prioritized in the selection\n",
    "    results_array = np.zeros((3, 4)).astype(int) \n",
    "    for i in chosen:\n",
    "        results_array[-1 * (priority[i]-3)][-1 * (days_since_order[i] - 3)] += 1\n",
    "\n",
    "    print(\"\\n****************** SOLUTION ******************\\n\") \n",
    "    print('Days since order was placed')\n",
    "    print('{:>5s}{:>5s}{:>5s}{:>5s}{:>5s}'.format('Priority |',\n",
    "            '3', '2', '1', '0')) \n",
    "    print('-' * 40)\n",
    "\n",
    "    for i in range(3): \n",
    "        print('{:>5s}{:>10s}{:>5s}{:>5s}{:>5s}'.format(str(-1*(i - 3)),\n",
    "                str(results_array[i][0]), str(results_array[i][1]),\n",
    "                str(results_array[i][2]), str(results_array[i][3])))\n",
    "\n",
    "    print((\"\\nTotal number of selected items: {}\".format(len(chosen))))\n",
    "    print(\"Total weight of selected items: {}\".format(total_weight))"
   ]
  },
  {
   "cell_type": "code",
   "execution_count": null,
   "metadata": {},
   "outputs": [],
   "source": []
  }
 ],
 "metadata": {
  "kernelspec": {
   "display_name": "Python 3 (ipykernel)",
   "language": "python",
   "name": "python3"
  },
  "language_info": {
   "codemirror_mode": {
    "name": "ipython",
    "version": 3
   },
   "file_extension": ".py",
   "mimetype": "text/x-python",
   "name": "python",
   "nbconvert_exporter": "python",
   "pygments_lexer": "ipython3",
   "version": "3.7.6"
  },
  "toc": {
   "base_numbering": 1,
   "nav_menu": {},
   "number_sections": true,
   "sideBar": true,
   "skip_h1_title": false,
   "title_cell": "Table of Contents",
   "title_sidebar": "Contents",
   "toc_cell": false,
   "toc_position": {},
   "toc_section_display": true,
   "toc_window_display": false
  },
  "varInspector": {
   "cols": {
    "lenName": 16,
    "lenType": 16,
    "lenVar": 40
   },
   "kernels_config": {
    "python": {
     "delete_cmd_postfix": "",
     "delete_cmd_prefix": "del ",
     "library": "var_list.py",
     "varRefreshCmd": "print(var_dic_list())"
    },
    "r": {
     "delete_cmd_postfix": ") ",
     "delete_cmd_prefix": "rm(",
     "library": "var_list.r",
     "varRefreshCmd": "cat(var_dic_list()) "
    }
   },
   "types_to_exclude": [
    "module",
    "function",
    "builtin_function_or_method",
    "instance",
    "_Feature"
   ],
   "window_display": false
  }
 },
 "nbformat": 4,
 "nbformat_minor": 4
}

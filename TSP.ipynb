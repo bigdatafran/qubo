{
 "cells": [
  {
   "cell_type": "code",
   "execution_count": 9,
   "id": "37588278-c0e7-47f9-af96-071d4d3775f6",
   "metadata": {},
   "outputs": [
    {
     "data": {
      "text/plain": [
       "[3, 0, 1, 2]"
      ]
     },
     "execution_count": 9,
     "metadata": {},
     "output_type": "execute_result"
    }
   ],
   "source": [
    "import networkx as nx\n",
    "import dimod\n",
    "import dwave_networkx.algorithms.tsp as dnx\n",
    "\n",
    "G = nx.Graph()\n",
    "G.add_weighted_edges_from({(0, 1, .1), (0, 2, .5), (0, 3, .1), (1, 2, .1),\n",
    "                            (1, 3, .5), (2, 3, .1)})\n",
    "dnx.traveling_salesperson(G, dimod.ExactSolver(), start=3) \n"
   ]
  },
  {
   "cell_type": "code",
   "execution_count": 10,
   "id": "6024607a-b905-43f1-ad58-6151233d0fc3",
   "metadata": {},
   "outputs": [],
   "source": [
    "#!pip install pandas\n",
    "#!pip install openpyxl"
   ]
  },
  {
   "cell_type": "code",
   "execution_count": 11,
   "id": "7349ed63-0f6c-40ed-b632-40aef140e52d",
   "metadata": {},
   "outputs": [],
   "source": [
    "import pandas as pd"
   ]
  },
  {
   "cell_type": "code",
   "execution_count": 12,
   "id": "c5774926-51a6-4329-b765-14c810e6fcbb",
   "metadata": {},
   "outputs": [],
   "source": [
    "dat = pd.read_excel(\"D:\\MisTrabajos\\DWaveOcean\\ejemplosJupyter\\mios\\datos1.xlsx\", sheet_name='Hoja1')"
   ]
  },
  {
   "cell_type": "code",
   "execution_count": 13,
   "id": "6cc5c745-7919-4a5b-84ad-b9beebc56fce",
   "metadata": {},
   "outputs": [
    {
     "data": {
      "text/plain": [
       "{(0.0, 1.0, 10.0),\n",
       " (0.0, 2.0, 0.5),\n",
       " (0.0, 3.0, 0.1),\n",
       " (1.0, 2.0, 0.1),\n",
       " (1.0, 3.0, 0.5),\n",
       " (2.0, 3.0, 0.1)}"
      ]
     },
     "execution_count": 13,
     "metadata": {},
     "output_type": "execute_result"
    }
   ],
   "source": [
    "resul = set()\n",
    "for index, row in dat.iterrows():\n",
    "    resul.add((row['init'],row['fin'],row['peso']))\n",
    "    \n",
    "resul"
   ]
  },
  {
   "cell_type": "code",
   "execution_count": 14,
   "id": "824bedf8-f71a-4586-8a38-81bf6c99da75",
   "metadata": {},
   "outputs": [
    {
     "data": {
      "text/plain": [
       "[0.0, 2.0, 1.0, 3.0]"
      ]
     },
     "execution_count": 14,
     "metadata": {},
     "output_type": "execute_result"
    }
   ],
   "source": [
    "G = nx.Graph()\n",
    "G.add_weighted_edges_from(resul)\n",
    "dnx.traveling_salesperson(G, dimod.ExactSolver(), start=0) "
   ]
  },
  {
   "cell_type": "markdown",
   "id": "6f6914a4-8e2c-4f6b-9709-6695dfb2e634",
   "metadata": {},
   "source": [
    "Lo siguiente los saco de %matplotlib inline\n",
    "\n",
    "https://github.com/recruit-communications/pyqubo/blob/master/notebooks/TSP.ipynb"
   ]
  },
  {
   "cell_type": "code",
   "execution_count": 79,
   "id": "69a51ce9-75ab-46ea-a38b-664d8e31a424",
   "metadata": {},
   "outputs": [],
   "source": [
    "%matplotlib inline\n",
    "from pyqubo import Array, Placeholder, Constraint\n",
    "import matplotlib.pyplot as plt\n",
    "import networkx as nx\n",
    "import numpy as np"
   ]
  },
  {
   "cell_type": "code",
   "execution_count": 80,
   "id": "8e73a8e9-0f40-478d-bd5a-f710a6bc7a31",
   "metadata": {},
   "outputs": [],
   "source": [
    "def plot_city(cities, sol=None):\n",
    "    n_city = len(cities)\n",
    "    cities_dict = dict(cities)\n",
    "    G = nx.Graph()\n",
    "    for city in cities_dict:\n",
    "        G.add_node(city)\n",
    "        \n",
    "    # draw path\n",
    "    if sol:\n",
    "        city_order = []\n",
    "        for i in range(n_city):\n",
    "            for j in range(n_city):\n",
    "                if sol.array('c', (i, j)) == 1:\n",
    "                    city_order.append(j)\n",
    "        for i in range(n_city):\n",
    "            city_index1 = city_order[i]\n",
    "            city_index2 = city_order[(i+1) % n_city]\n",
    "            G.add_edge(cities[city_index1][0], cities[city_index2][0])\n",
    "\n",
    "    plt.figure(figsize=(3,3))\n",
    "    pos = nx.spring_layout(G)\n",
    "    nx.draw_networkx(G, cities_dict)\n",
    "    plt.axis(\"off\")\n",
    "    plt.show()\n",
    "\n",
    "def dist(i, j, cities):\n",
    "    pos_i = cities[i][1]\n",
    "    pos_j = cities[j][1]\n",
    "    return np.sqrt((pos_i[0] - pos_j[0])**2 + (pos_i[1] - pos_j[1])**2)"
   ]
  },
  {
   "cell_type": "code",
   "execution_count": 81,
   "id": "bdf94ea6-bb01-4d61-9c3f-eb4b0878dbef",
   "metadata": {},
   "outputs": [
    {
     "data": {
      "image/png": "[encoded data removed]",
      "text/plain": [
       "<Figure size 216x216 with 1 Axes>"
      ]
     },
     "metadata": {},
     "output_type": "display_data"
    }
   ],
   "source": [
    "# City names and coordinates list[(\"name\", (x, y))]\n",
    "cities = [\n",
    "    (\"a\", (0, 0)),\n",
    "    (\"b\", (1, 3)),\n",
    "    (\"c\", (3, 2)),\n",
    "    (\"d\", (2, 1)),\n",
    "    (\"e\", (0, 1)),\n",
    "    (\"f\", (2,4))\n",
    "]\n",
    "plot_city(cities)"
   ]
  },
  {
   "cell_type": "code",
   "execution_count": 89,
   "id": "d4f5f78a-4de9-4420-9e6b-26f4403323e1",
   "metadata": {},
   "outputs": [],
   "source": [
    "n_city = len(cities)\n",
    "x = Array.create('H', (n_city, n_city), 'BINARY')"
   ]
  },
  {
   "cell_type": "code",
   "execution_count": 90,
   "id": "98c6bd89-c98f-47e4-a309-e60aff8d6418",
   "metadata": {},
   "outputs": [],
   "source": [
    "# Constraint not to visit more than two cities at the same time.\n",
    "time_const = 0.0\n",
    "for i in range(n_city):\n",
    "    # If you wrap the hamiltonian by Const(...), this part is recognized as constraint\n",
    "    time_const += Constraint((sum(x[i, j] for j in range(n_city)) - 1)**2, label=\"time{}\".format(i))\n",
    "\n",
    "# Constraint not to visit the same city more than twice.\n",
    "city_const = 0.0\n",
    "for j in range(n_city):\n",
    "    city_const += Constraint((sum(x[i, j] for i in range(n_city)) - 1)**2, label=\"city{}\".format(j))"
   ]
  },
  {
   "cell_type": "code",
   "execution_count": 91,
   "id": "f897b591-ef97-438e-bebf-35ac0a92d270",
   "metadata": {},
   "outputs": [],
   "source": [
    "# distance of route\n",
    "distance = 0.0\n",
    "for i in range(n_city):\n",
    "    for j in range(n_city):\n",
    "        for k in range(n_city):\n",
    "            d_ij = dist(i, j, cities)\n",
    "            distance += d_ij * x[k, i] * x[(k+1)%n_city, j]"
   ]
  },
  {
   "cell_type": "code",
   "execution_count": 92,
   "id": "1df03761-c982-4315-a03d-e4622297ddf8",
   "metadata": {},
   "outputs": [],
   "source": [
    "# Construct hamiltonian\n",
    "A = Placeholder(\"A\")\n",
    "H = distance + A * (time_const + city_const)"
   ]
  },
  {
   "cell_type": "code",
   "execution_count": 93,
   "id": "a33e0ed6-d371-4ee2-ad7c-4ed7d8af4fa0",
   "metadata": {},
   "outputs": [],
   "source": [
    "# Compile model\n",
    "model = H.compile()"
   ]
  },
  {
   "cell_type": "code",
   "execution_count": 94,
   "id": "f048f826-0917-44cc-9dec-7c89c1638236",
   "metadata": {},
   "outputs": [],
   "source": [
    "# Generate QUBO\n",
    "feed_dict = {'A': 4.0}\n",
    "bqm = model.to_bqm(feed_dict=feed_dict)"
   ]
  },
  {
   "cell_type": "code",
   "execution_count": 95,
   "id": "c50a4170-312a-472c-8b1f-6b5931274019",
   "metadata": {},
   "outputs": [
    {
     "name": "stdout",
     "output_type": "stream",
     "text": [
      "   H[0][0] H[0][1] H[0][2] H[0][3] H[0][4] ... H[5][5]    energy num_oc.\n",
      "74       0       1       0       0       0 ...       1 10.536631       1\n",
      "7        0       0       0       0       0 ...       0 10.536631       1\n",
      "34       0       0       0       0       0 ...       0 10.536631       1\n",
      "3        0       0       0       0       1 ...       0 10.536631       1\n",
      "32       0       0       0       0       1 ...       0 10.536631       1\n",
      "47       0       0       0       0       1 ...       0 10.536631       1\n",
      "91       0       1       0       0       0 ...       0 10.536631       1\n",
      "20       1       0       0       0       0 ...       0 10.536631       1\n",
      "25       1       0       0       0       0 ...       0 10.536631       1\n",
      "13       0       0       1       0       0 ...       0 10.536631       1\n",
      "30       1       0       0       0       0 ...       0 10.536631       1\n",
      "71       0       1       0       0       0 ...       1 11.226773       1\n",
      "67       0       0       1       0       0 ...       1 11.226773       1\n",
      "14       0       0       0       1       0 ...       0 11.226773       1\n",
      "9        1       0       0       0       0 ...       0 11.226773       1\n",
      "11       1       0       0       0       0 ...       0 11.226773       1\n",
      "75       1       0       0       0       0 ...       0 11.226773       1\n",
      "28       0       0       0       0       0 ...       0 11.226773       1\n",
      "92       0       0       0       0       0 ...       0 11.226773       1\n",
      "85       0       0       1       0       0 ...       0 11.226773       1\n",
      "93       0       0       0       1       0 ...       0 11.906114       1\n",
      "35       0       0       0       0       0 ...       0 11.906114       1\n",
      "16       0       0       1       0       0 ...       0 11.906114       1\n",
      "27       0       0       1       0       0 ...       0 11.906114       1\n",
      "61       1       0       0       0       0 ...       0 11.906114       1\n",
      "6        1       0       0       0       0 ...       0 12.284695       1\n",
      "83       0       0       0       1       0 ...       0 12.284695       1\n",
      "26       1       0       0       0       0 ...       0 12.284695       1\n",
      "78       0       0       0       1       0 ...       0 12.284695       1\n",
      "52       0       0       0       0       0 ...       0 12.284695       1\n",
      "55       0       1       0       0       0 ...       1 12.491901       1\n",
      "24       0       0       0       1       0 ...       0 12.491901       1\n",
      "2        0       1       0       0       0 ...       0 12.491901       1\n",
      "5        1       0       0       0       0 ...       0 12.491901       1\n",
      "69       0       0       0       0       1 ...       0 12.491901       1\n",
      "33       0       0       0       1       0 ...       0 12.491901       1\n",
      "96       0       0       0       0       0 ...       0 12.536631       1\n",
      "66       0       0       1       0       0 ...       0 12.536631       1\n",
      "95       1       0       0       0       0 ...       1 12.536631       1\n",
      "99       0       0       0       0       1 ...       0 12.536631       1\n",
      "80       0       1       0       0       0 ...       0 12.536631       1\n",
      "44       0       0       0       1       0 ...       1 12.670046       1\n",
      "39       0       1       0       0       0 ...       0 12.670046       1\n",
      "43       0       0       1       0       0 ...       0 12.670046       1\n",
      "59       0       0       0       0       0 ...       0 12.670046       1\n",
      "42       0       0       0       0       0 ...       0 12.944272       1\n",
      "4        0       0       0       0       1 ...       0 12.944272       1\n",
      "51       0       0       0       0       1 ...       0 12.944272       1\n",
      "1        0       1       0       0       0 ...       0 12.944272       1\n",
      "86       0       0       0       1       0 ...       1 13.048627       1\n",
      "84       0       0       0       0       0 ...       0 13.048627       1\n",
      "81       0       0       1       0       0 ...       0 13.048627       1\n",
      "15       1       0       0       0       0 ...       0 13.048627       1\n",
      "49       1       0       0       0       0 ...       0 13.048627       1\n",
      "82       1       0       0       0       0 ...       0 13.048627       1\n",
      "12       0       0       0       0       1 ...       0 13.048627       1\n",
      "36       0       0       0       0       1 ...       0 13.048627       1\n",
      "68       0       0       0       0       1 ...       0 13.048627       1\n",
      "53       1       0       0       0       0 ...       0 13.152982       1\n",
      "40       0       0       1       0       0 ...       0 13.152982       1\n",
      "50       0       1       0       0       0 ...       0 13.152982       1\n",
      "88       0       0       0       0       1 ...       0 13.152982       1\n",
      "87       1       0       0       0       0 ...       0 13.255833       1\n",
      "10       0       1       0       0       0 ...       0 13.275598       1\n",
      "90       0       1       0       0       0 ...       0 13.275598       1\n",
      "97       0       0       1       0       0 ...       0 13.275598       1\n",
      "62       0       0       0       0       0 ...       0 13.275598       1\n",
      "98       0       0       0       0       0 ...       0 13.275598       1\n",
      "29       1       0       0       0       0 ...       0 13.275598       1\n",
      "77       0       0       0       0       1 ...       1 13.549823       1\n",
      "76       0       0       1       0       0 ...       0 13.594553       1\n",
      "0        0       0       0       1       0 ...       0 13.594553       1\n",
      "23       0       0       0       0       0 ...       0 13.594553       1\n",
      "37       0       0       0       0       0 ...       0 13.594553       1\n",
      "63       0       0       0       0       0 ...       0 13.594553       1\n",
      "19       0       1       0       0       0 ...       0 13.594553       1\n",
      "31       0       1       0       0       0 ...       0 13.594553       1\n",
      "38       0       1       0       0       0 ...       0 13.594553       1\n",
      "60       0       0       0       0       0 ...       0 13.634414       1\n",
      "94       0       0       1       0       0 ...       1 13.634414       1\n",
      "89       0       0       0       0       0 ...       0 13.654178       1\n",
      "70       0       1       0       0       0 ...       1 13.698909       1\n",
      "72       0       1       0       0       0 ...       1 13.698909       1\n",
      "41       0       0       0       0       0 ...       0 13.698909       1\n",
      "21       0       0       1       0       0 ...       0 13.727969       1\n",
      "45       0       0       0       0       1 ...       0 13.727969       1\n",
      "65       0       0       0       1       0 ...       0 13.727969       1\n",
      "46       0       1       0       0       0 ...       0  14.18034       1\n",
      "57       0       1       0       0       0 ...       0  14.18034       1\n",
      "18       0       0       0       0       0 ...       0  14.41811       1\n",
      "73       0       0       0       1       0 ...       0  14.41811       1\n",
      "8        0       0       0       0       0 ...       0 14.796691       1\n",
      "22       0       0       0       0       0 ...       0 14.994602       1\n",
      "54       0       0       0       1       0 ...       0 14.994602       1\n",
      "64       0       0       0       1       0 ...       0 14.994602       1\n",
      "17       0       0       0       0       1 ...       0 15.097452       1\n",
      "56       0       0       0       0       0 ...       0 15.416408       1\n",
      "79       0       0       0       1       0 ...       0 15.416408       1\n",
      "58       1       0       0       0       0 ...       0 15.416408       1\n",
      "48       0       0       0       0       1 ...       0 15.476033       1\n",
      "['BINARY', 100 rows, 100 samples, 36 variables]\n"
     ]
    }
   ],
   "source": [
    "import neal\n",
    "sa = neal.SimulatedAnnealingSampler()\n",
    "sampleset = sa.sample(bqm, num_reads=100, num_sweeps=100)\n",
    "\n",
    "print(sampleset)"
   ]
  },
  {
   "cell_type": "code",
   "execution_count": null,
   "id": "598191db-2915-46a6-878a-f7f948ac52b8",
   "metadata": {},
   "outputs": [],
   "source": [
    "# Decode solution\n",
    "decoded_samples = model.decode_sampleset(sampleset, feed_dict=feed_dict)\n",
    "print(decoded_samples)"
   ]
  },
  {
   "cell_type": "code",
   "execution_count": 65,
   "id": "82a17102-a526-483f-9af0-a6e38d21d273",
   "metadata": {},
   "outputs": [
    {
     "name": "stdout",
     "output_type": "stream",
     "text": [
      "<cpp_pyqubo.DecodedSample object at 0x00000254C057AEF0>\n"
     ]
    }
   ],
   "source": [
    "best_sample = min(decoded_samples, key=lambda x: x.energy)\n",
    "print(best_sample)"
   ]
  },
  {
   "cell_type": "code",
   "execution_count": null,
   "id": "0727f285-6a30-4090-8d67-62f95e8a3a39",
   "metadata": {},
   "outputs": [],
   "source": [
    "num_broken = len(best_sample.constraints(only_broken=True))\n",
    "print(\"number of broken constarint = {}\".format(num_broken))"
   ]
  },
  {
   "cell_type": "code",
   "execution_count": 60,
   "id": "c4fdd22b-925c-4a71-8908-6f2f4f11cb6e",
   "metadata": {},
   "outputs": [
    {
     "data": {
      "image/png": "[encoded data removed]",
      "text/plain": [
       "<Figure size 216x216 with 1 Axes>"
      ]
     },
     "metadata": {},
     "output_type": "display_data"
    }
   ],
   "source": [
    "if num_broken == 0:\n",
    "    plot_city(cities, best_sample)"
   ]
  },
  {
   "cell_type": "markdown",
   "id": "20deed58-eaaa-43c3-8a85-0f1ff07cff74",
   "metadata": {},
   "source": [
    "## Lo hago con datos de excel"
   ]
  },
  {
   "cell_type": "code",
   "execution_count": 1,
   "id": "b700db86-7548-42ae-a467-39b6608d1e3b",
   "metadata": {},
   "outputs": [
    {
     "data": {
      "text/plain": [
       "{(0, 0): 0,\n",
       " (0, 1): 1,\n",
       " (0, 2): 2,\n",
       " (0, 3): 3,\n",
       " (0, 4): 4,\n",
       " (0, 5): 5,\n",
       " (1, 0): 3,\n",
       " (1, 1): 0,\n",
       " (1, 2): 3,\n",
       " (1, 3): 4,\n",
       " (1, 4): 5,\n",
       " (1, 5): 7,\n",
       " (2, 0): 4,\n",
       " (2, 1): 2,\n",
       " (2, 2): 0,\n",
       " (2, 3): 2,\n",
       " (2, 4): 4,\n",
       " (2, 5): 6,\n",
       " (3, 0): 1,\n",
       " (3, 1): 2,\n",
       " (3, 2): 5,\n",
       " (3, 3): 0,\n",
       " (3, 4): 6,\n",
       " (3, 5): 8,\n",
       " (4, 0): 2,\n",
       " (4, 1): 5,\n",
       " (4, 2): 5,\n",
       " (4, 3): 2,\n",
       " (4, 4): 0,\n",
       " (4, 5): 3,\n",
       " (5, 5): 0,\n",
       " (5, 0): 3,\n",
       " (5, 1): 3,\n",
       " (5, 2): 7,\n",
       " (5, 3): 2,\n",
       " (5, 4): 3}"
      ]
     },
     "execution_count": 1,
     "metadata": {},
     "output_type": "execute_result"
    }
   ],
   "source": [
    "import pandas as pd\n",
    "dat = pd.read_excel(\"D:\\MisTrabajos\\DWaveOcean\\ejemplosJupyter\\mios\\datos1.xlsx\", sheet_name='Hoja2')\n",
    "dat2 = {}\n",
    "for index, row in dat.iterrows():\n",
    "    dat2[(row['init'],row['fin'])] = row['peso']\n",
    "\n",
    "dat2"
   ]
  },
  {
   "cell_type": "code",
   "execution_count": 2,
   "id": "7957ae66-3fdc-4e24-b59d-2dd614b54fd0",
   "metadata": {},
   "outputs": [
    {
     "data": {
      "text/plain": [
       "6"
      ]
     },
     "execution_count": 2,
     "metadata": {},
     "output_type": "execute_result"
    }
   ],
   "source": [
    "len(dat.init.unique())"
   ]
  },
  {
   "cell_type": "code",
   "execution_count": 3,
   "id": "cbcb055a-0692-4411-9cd8-595631f72098",
   "metadata": {},
   "outputs": [
    {
     "data": {
      "text/plain": [
       "3"
      ]
     },
     "execution_count": 3,
     "metadata": {},
     "output_type": "execute_result"
    }
   ],
   "source": [
    "def distancia(x, y, datos):\n",
    "    return datos[x,y]\n",
    "\n",
    "distancia(0,3,dat2)"
   ]
  },
  {
   "cell_type": "code",
   "execution_count": 134,
   "id": "dc2403d9-5069-418d-b7e2-472d9cf264f3",
   "metadata": {},
   "outputs": [],
   "source": [
    "#n_city = len(cities)\n",
    "n_city = len(dat.init.unique())\n",
    "x = Array.create('c', (n_city, n_city), 'BINARY')"
   ]
  },
  {
   "cell_type": "code",
   "execution_count": 135,
   "id": "5335596e-38a9-4b5e-83ed-53a0b547d41c",
   "metadata": {},
   "outputs": [],
   "source": [
    "# Constraint not to visit more than two cities at the same time.\n",
    "time_const = 0.0\n",
    "for i in range(n_city):\n",
    "    # If you wrap the hamiltonian by Const(...), this part is recognized as constraint\n",
    "    time_const += Constraint((sum(x[i, j] for j in range(n_city)) - 1)**2, label=\"time{}\".format(i))\n",
    "\n",
    "# Constraint not to visit the same city more than twice.\n",
    "city_const = 0.0\n",
    "for j in range(n_city):\n",
    "    city_const += Constraint((sum(x[i, j] for i in range(n_city)) - 1)**2, label=\"city{}\".format(j))"
   ]
  },
  {
   "cell_type": "code",
   "execution_count": 136,
   "id": "5322e517-d669-4c65-8ba1-83a703865272",
   "metadata": {},
   "outputs": [],
   "source": [
    "# distance of route\n",
    "distance = 0.0\n",
    "for i in range(n_city):\n",
    "    for j in range(n_city):\n",
    "        for k in range(n_city):\n",
    "            d_ij = distancia(i, j, dat2)\n",
    "            distance += d_ij * x[k, i] * x[(k+1)%n_city, j]"
   ]
  },
  {
   "cell_type": "code",
   "execution_count": 137,
   "id": "e9213352-835c-4824-a130-e815e38ba2dc",
   "metadata": {},
   "outputs": [],
   "source": [
    "# Construct hamiltonian\n",
    "A = Placeholder(\"A\")\n",
    "H = distance + A * (time_const + city_const)"
   ]
  },
  {
   "cell_type": "code",
   "execution_count": 138,
   "id": "587ddd24-33e5-4bf0-9e4c-c213332466ac",
   "metadata": {},
   "outputs": [],
   "source": [
    "# Compile model\n",
    "model = H.compile()"
   ]
  },
  {
   "cell_type": "code",
   "execution_count": 139,
   "id": "aa25a5ad-3ee0-46bc-ae2c-dcf2329f32cc",
   "metadata": {},
   "outputs": [],
   "source": [
    "# Generate QUBO\n",
    "feed_dict = {'A': 5.0}\n",
    "bqm = model.to_bqm(feed_dict=feed_dict)"
   ]
  },
  {
   "cell_type": "code",
   "execution_count": 140,
   "id": "b3befd7e-14f9-4ce3-b01d-e67e7e0edd4e",
   "metadata": {},
   "outputs": [
    {
     "name": "stdout",
     "output_type": "stream",
     "text": [
      "number of broken constarint = 0\n"
     ]
    }
   ],
   "source": [
    "import neal\n",
    "sa = neal.SimulatedAnnealingSampler()\n",
    "sampleset = sa.sample(bqm, num_reads=100, num_sweeps=100)\n",
    "\n",
    "# Decode solution\n",
    "decoded_samples = model.decode_sampleset(sampleset, feed_dict=feed_dict)\n",
    "best_sample = min(decoded_samples, key=lambda x: x.energy)\n",
    "num_broken = len(best_sample.constraints(only_broken=True))\n",
    "print(\"number of broken constarint = {}\".format(num_broken))"
   ]
  },
  {
   "cell_type": "code",
   "execution_count": 141,
   "id": "e424377b-bad0-4216-a9e5-6eb60a28dc83",
   "metadata": {},
   "outputs": [
    {
     "name": "stdout",
     "output_type": "stream",
     "text": [
      "<bound method SampleSet.data of SampleSet(rec.array([([0, 0, 0, 0, 0, 1, 0, 0, 0, 1, 0, 0, 1, 0, 0, 0, 0, 0, 0, 1, 0, 0, 0, 0, 0, 0, 1, 0, 0, 0, 0, 0, 0, 0, 1, 0], 14., 1),\n",
      "           ([0, 0, 0, 0, 0, 1, 0, 0, 0, 1, 0, 0, 1, 0, 0, 0, 0, 0, 0, 1, 0, 0, 0, 0, 0, 0, 1, 0, 0, 0, 0, 0, 0, 0, 1, 0], 14., 1),\n",
      "           ([0, 0, 0, 0, 1, 0, 0, 0, 0, 0, 0, 1, 0, 0, 0, 1, 0, 0, 1, 0, 0, 0, 0, 0, 0, 1, 0, 0, 0, 0, 0, 0, 1, 0, 0, 0], 14., 1),\n",
      "           ([0, 0, 0, 0, 1, 0, 0, 0, 0, 0, 0, 1, 0, 0, 0, 1, 0, 0, 1, 0, 0, 0, 0, 0, 0, 1, 0, 0, 0, 0, 0, 0, 1, 0, 0, 0], 14., 1),\n",
      "           ([0, 0, 0, 1, 0, 0, 1, 0, 0, 0, 0, 0, 0, 1, 0, 0, 0, 0, 0, 0, 1, 0, 0, 0, 0, 0, 0, 0, 1, 0, 0, 0, 0, 0, 0, 1], 14., 1),\n",
      "           ([0, 0, 0, 1, 0, 0, 1, 0, 0, 0, 0, 0, 0, 1, 0, 0, 0, 0, 0, 0, 1, 0, 0, 0, 0, 0, 0, 0, 1, 0, 0, 0, 0, 0, 0, 1], 14., 1),\n",
      "           ([0, 0, 0, 1, 0, 0, 1, 0, 0, 0, 0, 0, 0, 1, 0, 0, 0, 0, 0, 0, 1, 0, 0, 0, 0, 0, 0, 0, 1, 0, 0, 0, 0, 0, 0, 1], 14., 1),\n",
      "           ([0, 0, 1, 0, 0, 0, 0, 0, 0, 0, 1, 0, 0, 0, 0, 0, 0, 1, 0, 0, 0, 1, 0, 0, 1, 0, 0, 0, 0, 0, 0, 1, 0, 0, 0, 0], 14., 1),\n",
      "           ([0, 1, 0, 0, 0, 0, 0, 0, 1, 0, 0, 0, 0, 0, 0, 0, 1, 0, 0, 0, 0, 0, 0, 1, 0, 0, 0, 1, 0, 0, 1, 0, 0, 0, 0, 0], 14., 1),\n",
      "           ([0, 1, 0, 0, 0, 0, 0, 0, 1, 0, 0, 0, 0, 0, 0, 0, 1, 0, 0, 0, 0, 0, 0, 1, 0, 0, 0, 1, 0, 0, 1, 0, 0, 0, 0, 0], 14., 1),\n",
      "           ([0, 1, 0, 0, 0, 0, 0, 0, 1, 0, 0, 0, 0, 0, 0, 0, 1, 0, 0, 0, 0, 0, 0, 1, 0, 0, 0, 1, 0, 0, 1, 0, 0, 0, 0, 0], 14., 1),\n",
      "           ([0, 1, 0, 0, 0, 0, 0, 0, 1, 0, 0, 0, 0, 0, 0, 0, 1, 0, 0, 0, 0, 0, 0, 1, 0, 0, 0, 1, 0, 0, 1, 0, 0, 0, 0, 0], 14., 1),\n",
      "           ([0, 1, 0, 0, 0, 0, 0, 0, 1, 0, 0, 0, 0, 0, 0, 0, 1, 0, 0, 0, 0, 0, 0, 1, 0, 0, 0, 1, 0, 0, 1, 0, 0, 0, 0, 0], 14., 1),\n",
      "           ([1, 0, 0, 0, 0, 0, 0, 1, 0, 0, 0, 0, 0, 0, 1, 0, 0, 0, 0, 0, 0, 0, 1, 0, 0, 0, 0, 0, 0, 1, 0, 0, 0, 1, 0, 0], 14., 1),\n",
      "           ([1, 0, 0, 0, 0, 0, 0, 1, 0, 0, 0, 0, 0, 0, 1, 0, 0, 0, 0, 0, 0, 0, 1, 0, 0, 0, 0, 0, 0, 1, 0, 0, 0, 1, 0, 0], 14., 1),\n",
      "           ([1, 0, 0, 0, 0, 0, 0, 1, 0, 0, 0, 0, 0, 0, 1, 0, 0, 0, 0, 0, 0, 0, 1, 0, 0, 0, 0, 0, 0, 1, 0, 0, 0, 1, 0, 0], 14., 1),\n",
      "           ([1, 0, 0, 0, 0, 0, 0, 1, 0, 0, 0, 0, 0, 0, 1, 0, 0, 0, 0, 0, 0, 0, 1, 0, 0, 0, 0, 0, 0, 1, 0, 0, 0, 1, 0, 0], 14., 1),\n",
      "           ([1, 0, 0, 0, 0, 0, 0, 1, 0, 0, 0, 0, 0, 0, 1, 0, 0, 0, 0, 0, 0, 0, 1, 0, 0, 0, 0, 0, 0, 1, 0, 0, 0, 1, 0, 0], 14., 1),\n",
      "           ([1, 0, 0, 0, 0, 0, 0, 1, 0, 0, 0, 0, 0, 0, 1, 0, 0, 0, 0, 0, 0, 0, 1, 0, 0, 0, 0, 0, 0, 1, 0, 0, 0, 1, 0, 0], 14., 1),\n",
      "           ([1, 0, 0, 0, 0, 0, 0, 1, 0, 0, 0, 0, 0, 0, 1, 0, 0, 0, 0, 0, 0, 0, 1, 0, 0, 0, 0, 0, 0, 1, 0, 0, 0, 1, 0, 0], 14., 1),\n",
      "           ([0, 0, 0, 0, 0, 1, 0, 0, 0, 1, 0, 0, 1, 0, 0, 0, 0, 0, 0, 0, 1, 0, 0, 0, 0, 1, 0, 0, 0, 0, 0, 0, 0, 0, 1, 0], 15., 1),\n",
      "           ([0, 0, 0, 0, 0, 1, 0, 0, 0, 1, 0, 0, 1, 0, 0, 0, 0, 0, 0, 0, 1, 0, 0, 0, 0, 1, 0, 0, 0, 0, 0, 0, 0, 0, 1, 0], 15., 1),\n",
      "           ([0, 0, 0, 0, 0, 1, 0, 0, 0, 1, 0, 0, 1, 0, 0, 0, 0, 0, 0, 0, 1, 0, 0, 0, 0, 1, 0, 0, 0, 0, 0, 0, 0, 0, 1, 0], 15., 1),\n",
      "           ([0, 0, 0, 0, 1, 0, 0, 0, 0, 0, 0, 1, 0, 0, 0, 1, 0, 0, 1, 0, 0, 0, 0, 0, 0, 0, 1, 0, 0, 0, 0, 1, 0, 0, 0, 0], 15., 1),\n",
      "           ([0, 0, 0, 0, 1, 0, 0, 0, 0, 0, 0, 1, 0, 0, 0, 1, 0, 0, 1, 0, 0, 0, 0, 0, 0, 0, 1, 0, 0, 0, 0, 1, 0, 0, 0, 0], 15., 1),\n",
      "           ([0, 0, 0, 1, 0, 0, 1, 0, 0, 0, 0, 0, 0, 0, 1, 0, 0, 0, 0, 1, 0, 0, 0, 0, 0, 0, 0, 0, 1, 0, 0, 0, 0, 0, 0, 1], 15., 1),\n",
      "           ([0, 0, 0, 1, 0, 0, 1, 0, 0, 0, 0, 0, 0, 0, 1, 0, 0, 0, 0, 1, 0, 0, 0, 0, 0, 0, 0, 0, 1, 0, 0, 0, 0, 0, 0, 1], 15., 1),\n",
      "           ([0, 0, 0, 1, 0, 0, 1, 0, 0, 0, 0, 0, 0, 0, 1, 0, 0, 0, 0, 1, 0, 0, 0, 0, 0, 0, 0, 0, 1, 0, 0, 0, 0, 0, 0, 1], 15., 1),\n",
      "           ([0, 1, 0, 0, 0, 0, 0, 0, 0, 0, 1, 0, 0, 0, 0, 0, 0, 1, 0, 0, 0, 1, 0, 0, 1, 0, 0, 0, 0, 0, 0, 0, 1, 0, 0, 0], 15., 1),\n",
      "           ([0, 1, 0, 0, 0, 0, 0, 0, 0, 0, 1, 0, 0, 0, 0, 0, 0, 1, 0, 0, 0, 1, 0, 0, 1, 0, 0, 0, 0, 0, 0, 0, 1, 0, 0, 0], 15., 1),\n",
      "           ([1, 0, 0, 0, 0, 0, 0, 0, 1, 0, 0, 0, 0, 1, 0, 0, 0, 0, 0, 0, 0, 0, 1, 0, 0, 0, 0, 0, 0, 1, 0, 0, 0, 1, 0, 0], 15., 1),\n",
      "           ([1, 0, 0, 0, 0, 0, 0, 0, 1, 0, 0, 0, 0, 1, 0, 0, 0, 0, 0, 0, 0, 0, 1, 0, 0, 0, 0, 0, 0, 1, 0, 0, 0, 1, 0, 0], 15., 1),\n",
      "           ([0, 0, 0, 0, 0, 1, 0, 0, 0, 0, 1, 0, 0, 0, 0, 1, 0, 0, 1, 0, 0, 0, 0, 0, 0, 1, 0, 0, 0, 0, 0, 0, 1, 0, 0, 0], 16., 1),\n",
      "           ([0, 0, 0, 0, 0, 1, 0, 0, 0, 1, 0, 0, 0, 1, 0, 0, 0, 0, 1, 0, 0, 0, 0, 0, 0, 0, 1, 0, 0, 0, 0, 0, 0, 0, 1, 0], 16., 1),\n",
      "           ([0, 0, 0, 0, 0, 1, 0, 1, 0, 0, 0, 0, 0, 0, 1, 0, 0, 0, 0, 0, 0, 1, 0, 0, 1, 0, 0, 0, 0, 0, 0, 0, 0, 0, 1, 0], 16., 1),\n",
      "           ([0, 0, 0, 0, 1, 0, 0, 0, 0, 0, 0, 1, 0, 0, 0, 1, 0, 0, 0, 1, 0, 0, 0, 0, 1, 0, 0, 0, 0, 0, 0, 0, 1, 0, 0, 0], 16., 1),\n",
      "           ([0, 0, 0, 0, 1, 0, 0, 0, 0, 0, 0, 1, 0, 1, 0, 0, 0, 0, 0, 0, 1, 0, 0, 0, 0, 0, 0, 1, 0, 0, 1, 0, 0, 0, 0, 0], 16., 1),\n",
      "           ([0, 0, 0, 0, 1, 0, 0, 0, 0, 1, 0, 0, 1, 0, 0, 0, 0, 0, 0, 1, 0, 0, 0, 0, 0, 0, 1, 0, 0, 0, 0, 0, 0, 0, 0, 1], 16., 1),\n",
      "           ([0, 0, 0, 1, 0, 0, 1, 0, 0, 0, 0, 0, 0, 0, 0, 0, 1, 0, 0, 0, 0, 0, 0, 1, 0, 1, 0, 0, 0, 0, 0, 0, 1, 0, 0, 0], 16., 1),\n",
      "           ([0, 0, 0, 1, 0, 0, 1, 0, 0, 0, 0, 0, 0, 1, 0, 0, 0, 0, 0, 0, 1, 0, 0, 0, 0, 0, 0, 0, 0, 1, 0, 0, 0, 0, 1, 0], 16., 1),\n",
      "           ([0, 0, 1, 0, 0, 0, 0, 0, 0, 0, 0, 1, 0, 0, 0, 0, 1, 0, 0, 0, 0, 1, 0, 0, 1, 0, 0, 0, 0, 0, 0, 1, 0, 0, 0, 0], 16., 1),\n",
      "           ([0, 0, 1, 0, 0, 0, 0, 0, 0, 0, 0, 1, 0, 0, 0, 0, 1, 0, 0, 0, 0, 1, 0, 0, 1, 0, 0, 0, 0, 0, 0, 1, 0, 0, 0, 0], 16., 1),\n",
      "           ([0, 0, 1, 0, 0, 0, 0, 0, 0, 0, 1, 0, 0, 0, 0, 0, 0, 1, 0, 0, 0, 1, 0, 0, 0, 1, 0, 0, 0, 0, 1, 0, 0, 0, 0, 0], 16., 1),\n",
      "           ([0, 0, 1, 0, 0, 0, 0, 0, 0, 0, 1, 0, 0, 0, 0, 0, 0, 1, 0, 0, 0, 1, 0, 0, 0, 1, 0, 0, 0, 0, 1, 0, 0, 0, 0, 0], 16., 1),\n",
      "           ([0, 1, 0, 0, 0, 0, 0, 0, 1, 0, 0, 0, 0, 0, 0, 1, 0, 0, 1, 0, 0, 0, 0, 0, 0, 0, 0, 0, 1, 0, 0, 0, 0, 0, 0, 1], 16., 1),\n",
      "           ([0, 1, 0, 0, 0, 0, 1, 0, 0, 0, 0, 0, 0, 0, 1, 0, 0, 0, 0, 0, 0, 0, 1, 0, 0, 0, 0, 0, 0, 1, 0, 0, 0, 1, 0, 0], 16., 1),\n",
      "           ([1, 0, 0, 0, 0, 0, 0, 1, 0, 0, 0, 0, 0, 0, 1, 0, 0, 0, 0, 0, 0, 0, 0, 1, 0, 0, 0, 0, 1, 0, 0, 0, 0, 1, 0, 0], 16., 1),\n",
      "           ([0, 0, 0, 0, 0, 1, 0, 0, 0, 0, 1, 0, 0, 0, 0, 1, 0, 0, 1, 0, 0, 0, 0, 0, 0, 0, 1, 0, 0, 0, 0, 1, 0, 0, 0, 0], 17., 1),\n",
      "           ([0, 0, 0, 0, 1, 0, 0, 0, 0, 0, 0, 1, 1, 0, 0, 0, 0, 0, 0, 0, 1, 0, 0, 0, 0, 0, 0, 1, 0, 0, 0, 1, 0, 0, 0, 0], 17., 1),\n",
      "           ([0, 0, 0, 0, 1, 0, 0, 0, 0, 1, 0, 0, 1, 0, 0, 0, 0, 0, 0, 0, 1, 0, 0, 0, 0, 1, 0, 0, 0, 0, 0, 0, 0, 0, 0, 1], 17., 1),\n",
      "           ([0, 0, 0, 1, 0, 0, 0, 1, 0, 0, 0, 0, 0, 0, 0, 0, 1, 0, 0, 0, 0, 0, 0, 1, 1, 0, 0, 0, 0, 0, 0, 0, 1, 0, 0, 0], 17., 1),\n",
      "           ([0, 0, 0, 1, 0, 0, 0, 1, 0, 0, 0, 0, 0, 0, 0, 0, 1, 0, 0, 0, 0, 0, 0, 1, 1, 0, 0, 0, 0, 0, 0, 0, 1, 0, 0, 0], 17., 1),\n",
      "           ([0, 0, 0, 1, 0, 0, 1, 0, 0, 0, 0, 0, 0, 0, 1, 0, 0, 0, 0, 0, 0, 0, 1, 0, 0, 0, 0, 0, 0, 1, 0, 1, 0, 0, 0, 0], 17., 1),\n",
      "           ([0, 0, 1, 0, 0, 0, 0, 1, 0, 0, 0, 0, 0, 0, 0, 0, 0, 1, 0, 0, 0, 0, 1, 0, 0, 0, 0, 1, 0, 0, 1, 0, 0, 0, 0, 0], 17., 1),\n",
      "           ([0, 1, 0, 0, 0, 0, 0, 0, 0, 1, 0, 0, 1, 0, 0, 0, 0, 0, 0, 0, 1, 0, 0, 0, 0, 0, 0, 0, 1, 0, 0, 0, 0, 0, 0, 1], 17., 1),\n",
      "           ([0, 1, 0, 0, 0, 0, 0, 0, 0, 1, 0, 0, 1, 0, 0, 0, 0, 0, 0, 0, 1, 0, 0, 0, 0, 0, 0, 0, 1, 0, 0, 0, 0, 0, 0, 1], 17., 1),\n",
      "           ([0, 0, 0, 0, 0, 0, 0, 0, 1, 0, 0, 0, 0, 0, 0, 0, 1, 0, 0, 0, 0, 1, 0, 0, 1, 0, 0, 0, 0, 0, 0, 1, 0, 0, 0, 0], 18., 1),\n",
      "           ([0, 0, 0, 0, 1, 0, 0, 0, 0, 1, 0, 0, 1, 0, 0, 0, 0, 0, 0, 0, 0, 0, 0, 1, 0, 1, 0, 0, 0, 0, 0, 0, 1, 0, 0, 0], 18., 1),\n",
      "           ([0, 0, 0, 0, 1, 0, 0, 0, 0, 1, 0, 0, 1, 0, 0, 0, 0, 0, 0, 0, 0, 0, 0, 1, 0, 1, 0, 0, 0, 0, 0, 0, 1, 0, 0, 0], 18., 1),\n",
      "           ([0, 0, 0, 0, 1, 0, 1, 0, 0, 0, 0, 0, 0, 0, 1, 0, 0, 0, 0, 0, 0, 1, 0, 0, 0, 1, 0, 0, 0, 0, 0, 0, 0, 0, 0, 0], 18., 1),\n",
      "           ([0, 0, 0, 0, 1, 0, 1, 0, 0, 0, 0, 0, 0, 1, 0, 0, 0, 0, 0, 0, 1, 0, 0, 0, 0, 0, 0, 1, 0, 0, 0, 0, 0, 0, 0, 0], 18., 1),\n",
      "           ([0, 0, 0, 1, 0, 0, 0, 1, 0, 0, 0, 0, 1, 0, 0, 0, 0, 0, 0, 0, 1, 0, 0, 0, 0, 0, 0, 0, 0, 1, 0, 0, 0, 0, 1, 0], 18., 1),\n",
      "           ([0, 0, 1, 0, 0, 0, 0, 0, 0, 1, 0, 0, 0, 0, 0, 0, 0, 0, 0, 0, 0, 0, 1, 0, 1, 0, 0, 0, 0, 0, 0, 1, 0, 0, 0, 0], 18., 1),\n",
      "           ([0, 0, 1, 0, 0, 0, 1, 0, 0, 0, 0, 0, 0, 0, 0, 0, 1, 0, 0, 0, 0, 0, 0, 1, 0, 0, 0, 1, 0, 0, 0, 1, 0, 0, 0, 0], 18., 1),\n",
      "           ([0, 1, 0, 0, 0, 0, 0, 0, 0, 0, 0, 1, 0, 0, 0, 0, 1, 0, 1, 0, 0, 0, 0, 0, 0, 0, 1, 0, 0, 0, 0, 0, 0, 1, 0, 0], 18., 1),\n",
      "           ([0, 1, 0, 0, 0, 0, 0, 0, 1, 0, 0, 0, 0, 0, 0, 0, 1, 0, 1, 0, 0, 0, 0, 0, 0, 0, 0, 0, 0, 1, 0, 0, 0, 1, 0, 0], 18., 1),\n",
      "           ([0, 1, 0, 0, 0, 0, 0, 0, 1, 0, 0, 0, 0, 0, 0, 1, 0, 0, 0, 0, 0, 0, 0, 0, 0, 0, 0, 0, 1, 0, 1, 0, 0, 0, 0, 0], 18., 1),\n",
      "           ([0, 1, 0, 0, 0, 0, 0, 0, 1, 0, 0, 0, 1, 0, 0, 0, 0, 0, 0, 0, 0, 0, 1, 0, 0, 0, 0, 0, 0, 1, 0, 0, 0, 1, 0, 0], 18., 1),\n",
      "           ([0, 1, 0, 0, 0, 0, 1, 0, 0, 0, 0, 0, 0, 0, 1, 0, 0, 0, 0, 0, 0, 0, 0, 1, 0, 0, 0, 0, 1, 0, 0, 0, 0, 1, 0, 0], 18., 1),\n",
      "           ([1, 0, 0, 0, 0, 0, 0, 0, 0, 0, 1, 0, 0, 0, 0, 0, 0, 1, 0, 0, 0, 1, 0, 0, 0, 1, 0, 0, 0, 0, 0, 0, 1, 0, 0, 0], 18., 1),\n",
      "           ([1, 0, 0, 0, 0, 0, 0, 0, 1, 0, 0, 0, 0, 0, 0, 1, 0, 0, 0, 1, 0, 0, 0, 0, 0, 0, 0, 0, 0, 0, 0, 0, 0, 0, 1, 0], 18., 1),\n",
      "           ([1, 0, 0, 0, 0, 0, 0, 1, 0, 0, 0, 0, 0, 0, 0, 0, 0, 0, 0, 0, 1, 0, 0, 0, 0, 0, 0, 0, 1, 0, 0, 0, 0, 1, 0, 0], 18., 1),\n",
      "           ([1, 0, 0, 0, 0, 0, 0, 1, 0, 0, 0, 0, 0, 0, 1, 0, 0, 0, 0, 0, 0, 1, 0, 0, 0, 0, 0, 0, 0, 0, 0, 0, 0, 0, 1, 0], 18., 1),\n",
      "           ([0, 0, 0, 0, 0, 0, 0, 0, 0, 0, 0, 1, 0, 0, 0, 0, 1, 0, 1, 0, 0, 0, 0, 0, 0, 0, 1, 0, 0, 0, 0, 1, 0, 0, 0, 0], 19., 1),\n",
      "           ([0, 0, 0, 0, 0, 1, 0, 0, 0, 0, 1, 0, 1, 0, 0, 0, 0, 0, 0, 0, 0, 1, 0, 0, 0, 1, 0, 0, 0, 0, 0, 0, 1, 0, 0, 0], 19., 1),\n",
      "           ([0, 0, 0, 0, 0, 1, 0, 0, 0, 1, 0, 0, 0, 1, 0, 0, 0, 0, 0, 0, 0, 0, 1, 0, 1, 0, 0, 0, 0, 0, 0, 0, 1, 0, 0, 0], 19., 1),\n",
      "           ([0, 0, 0, 0, 1, 0, 0, 0, 0, 0, 0, 0, 0, 0, 0, 0, 0, 1, 0, 0, 0, 1, 0, 0, 1, 0, 0, 0, 0, 0, 0, 1, 0, 0, 0, 0], 19., 1),\n",
      "           ([0, 0, 0, 0, 1, 0, 0, 0, 0, 0, 0, 1, 0, 0, 0, 1, 0, 0, 0, 0, 1, 0, 0, 0, 0, 1, 0, 0, 0, 0, 1, 0, 0, 0, 0, 0], 19., 1),\n",
      "           ([0, 0, 0, 0, 1, 0, 0, 0, 0, 1, 0, 0, 0, 1, 0, 0, 0, 0, 0, 0, 1, 0, 0, 0, 1, 0, 0, 0, 0, 0, 0, 0, 0, 0, 0, 1], 19., 1),\n",
      "           ([0, 0, 0, 0, 1, 0, 1, 0, 0, 0, 0, 0, 0, 0, 0, 1, 0, 0, 0, 1, 0, 0, 0, 0, 0, 0, 1, 0, 0, 0, 0, 0, 0, 0, 0, 1], 19., 1),\n",
      "           ([0, 0, 0, 1, 0, 0, 1, 0, 0, 0, 0, 0, 0, 1, 0, 0, 0, 0, 0, 0, 0, 0, 1, 0, 0, 0, 0, 0, 0, 0, 0, 0, 0, 0, 0, 1], 19., 1),\n",
      "           ([0, 0, 1, 0, 0, 0, 0, 0, 0, 1, 0, 0, 1, 0, 0, 0, 0, 0, 0, 1, 0, 0, 0, 0, 0, 0, 0, 0, 0, 0, 0, 0, 0, 0, 1, 0], 19., 1),\n",
      "           ([0, 1, 0, 0, 0, 0, 0, 0, 0, 0, 1, 0, 0, 0, 0, 0, 0, 0, 0, 0, 0, 0, 0, 1, 0, 0, 0, 1, 0, 0, 1, 0, 0, 0, 0, 0], 19., 1),\n",
      "           ([0, 1, 0, 0, 0, 0, 0, 0, 0, 0, 1, 0, 0, 0, 0, 0, 0, 0, 0, 0, 1, 0, 0, 0, 0, 0, 0, 1, 0, 0, 1, 0, 0, 0, 0, 0], 19., 1),\n",
      "           ([0, 1, 0, 0, 0, 0, 0, 0, 0, 0, 1, 0, 0, 0, 0, 1, 0, 0, 1, 0, 0, 0, 0, 0, 0, 0, 1, 0, 0, 0, 0, 0, 0, 0, 0, 1], 19., 1),\n",
      "           ([0, 1, 0, 0, 0, 0, 0, 0, 0, 0, 1, 0, 1, 0, 0, 0, 0, 0, 0, 0, 1, 0, 0, 0, 0, 0, 0, 0, 0, 1, 0, 0, 0, 1, 0, 0], 19., 1),\n",
      "           ([0, 1, 0, 0, 0, 0, 0, 0, 1, 0, 0, 0, 0, 0, 0, 1, 0, 0, 1, 0, 0, 0, 0, 0, 0, 0, 0, 0, 0, 1, 0, 0, 0, 0, 1, 0], 19., 1),\n",
      "           ([1, 0, 0, 0, 0, 0, 0, 0, 0, 1, 0, 0, 0, 1, 0, 0, 0, 0, 0, 0, 1, 0, 0, 0, 0, 0, 0, 0, 0, 1, 0, 0, 0, 0, 1, 0], 19., 1),\n",
      "           ([1, 0, 0, 0, 0, 0, 0, 1, 0, 0, 0, 0, 0, 0, 0, 0, 1, 0, 0, 0, 0, 0, 0, 0, 0, 0, 1, 0, 0, 0, 0, 0, 0, 1, 0, 0], 19., 1),\n",
      "           ([1, 0, 0, 0, 0, 0, 0, 1, 0, 0, 0, 0, 0, 0, 0, 0, 1, 0, 0, 0, 0, 0, 0, 1, 0, 0, 1, 0, 0, 0, 0, 0, 0, 1, 0, 0], 19., 1),\n",
      "           ([0, 0, 0, 0, 0, 1, 1, 0, 0, 0, 0, 0, 0, 0, 0, 0, 1, 0, 0, 0, 0, 1, 0, 0, 0, 1, 0, 0, 0, 0, 0, 0, 1, 0, 0, 0], 20., 1),\n",
      "           ([0, 0, 0, 0, 0, 1, 1, 0, 0, 0, 0, 0, 0, 0, 1, 0, 0, 0, 0, 1, 0, 0, 0, 0, 0, 0, 0, 1, 0, 0, 0, 0, 0, 0, 1, 0], 20., 1),\n",
      "           ([0, 1, 0, 0, 0, 0, 0, 0, 1, 0, 0, 0, 0, 0, 0, 0, 0, 1, 0, 0, 0, 1, 0, 0, 0, 0, 0, 0, 1, 0, 1, 0, 0, 0, 0, 0], 20., 1),\n",
      "           ([0, 0, 0, 0, 0, 1, 1, 0, 0, 0, 0, 0, 0, 1, 0, 0, 0, 0, 0, 0, 0, 0, 1, 0, 0, 0, 0, 1, 0, 0, 0, 0, 0, 0, 0, 0], 21., 1),\n",
      "           ([0, 0, 0, 0, 1, 0, 0, 0, 0, 0, 0, 0, 0, 0, 1, 0, 0, 0, 0, 1, 0, 0, 0, 0, 0, 0, 0, 1, 0, 0, 1, 0, 0, 0, 0, 0], 21., 1),\n",
      "           ([0, 0, 1, 0, 0, 0, 0, 1, 0, 0, 0, 0, 1, 0, 0, 0, 0, 0, 0, 0, 0, 0, 1, 0, 0, 0, 0, 1, 0, 0, 0, 0, 0, 0, 0, 0], 21., 1),\n",
      "           ([0, 1, 0, 0, 0, 0, 0, 0, 0, 0, 1, 0, 1, 0, 0, 0, 0, 0, 0, 0, 0, 0, 0, 1, 0, 0, 0, 1, 0, 0, 0, 0, 1, 0, 0, 0], 21., 1),\n",
      "           ([0, 0, 0, 0, 0, 1, 0, 1, 0, 0, 0, 0, 0, 0, 0, 1, 0, 0, 1, 0, 0, 0, 0, 0, 0, 0, 0, 0, 1, 0, 0, 0, 0, 0, 0, 0], 22., 1),\n",
      "           ([1, 0, 0, 0, 0, 0, 0, 0, 0, 1, 0, 0, 0, 0, 0, 0, 0, 0, 0, 0, 1, 0, 0, 0, 0, 1, 0, 0, 0, 0, 0, 0, 0, 0, 1, 0], 22., 1),\n",
      "           ([0, 0, 1, 0, 0, 0, 1, 0, 0, 0, 0, 0, 0, 0, 0, 0, 1, 0, 0, 0, 0, 1, 0, 0, 0, 0, 0, 0, 0, 0, 0, 1, 0, 0, 0, 0], 23., 1)],\n",
      "          dtype=[('sample', 'i1', (36,)), ('energy', '<f8'), ('num_occurrences', '<i4')]), Variables(['c[0][0]', 'c[0][1]', 'c[0][2]', 'c[0][3]', 'c[0][4]', 'c[0][5]', 'c[1][0]', 'c[1][1]', 'c[1][2]', 'c[1][3]', 'c[1][4]', 'c[1][5]', 'c[2][0]', 'c[2][1]', 'c[2][2]', 'c[2][3]', 'c[2][4]', 'c[2][5]', 'c[3][0]', 'c[3][1]', 'c[3][2]', 'c[3][3]', 'c[3][4]', 'c[3][5]', 'c[4][0]', 'c[4][1]', 'c[4][2]', 'c[4][3]', 'c[4][4]', 'c[4][5]', 'c[5][0]', 'c[5][1]', 'c[5][2]', 'c[5][3]', 'c[5][4]', 'c[5][5]']), {'beta_range': [0.010118936942480953, 18.420680743952367], 'beta_schedule_type': 'geometric'}, 'BINARY')>\n"
     ]
    }
   ],
   "source": [
    "print(sampleset.data)"
   ]
  },
  {
   "cell_type": "code",
   "execution_count": null,
   "id": "bd7cfd43-ebf9-463d-b85e-4406e53d477f",
   "metadata": {},
   "outputs": [],
   "source": []
  },
  {
   "cell_type": "code",
   "execution_count": null,
   "id": "cb52aa32-4da8-4aa4-9ec0-ae64443bf111",
   "metadata": {},
   "outputs": [],
   "source": []
  },
  {
   "cell_type": "code",
   "execution_count": null,
   "id": "adc3ec76-2b79-42c7-b0ea-4d1966166141",
   "metadata": {},
   "outputs": [],
   "source": [
    "df_train_join[\"num_prod_group\"]=0\n",
    "for index, row in df_train_join.iterrows():\n",
    "    if row['number_active_produts\"] <6 :\n",
    "        df_train_join.loc[index,\"num_prod_group\"] = row['number_active_produts\"]\n",
    "    else:\n",
    "        df_train_join.loc[index,\"num_prod_group\"] = 6"
   ]
  }
 ],
 "metadata": {
  "kernelspec": {
   "display_name": "Python 3 (ipykernel)",
   "language": "python",
   "name": "python3"
  },
  "language_info": {
   "codemirror_mode": {
    "name": "ipython",
    "version": 3
   },
   "file_extension": ".py",
   "mimetype": "text/x-python",
   "name": "python",
   "nbconvert_exporter": "python",
   "pygments_lexer": "ipython3",
   "version": "3.7.6"
  },
  "toc": {
   "base_numbering": 1,
   "nav_menu": {},
   "number_sections": true,
   "sideBar": true,
   "skip_h1_title": false,
   "title_cell": "Table of Contents",
   "title_sidebar": "Contents",
   "toc_cell": false,
   "toc_position": {},
   "toc_section_display": true,
   "toc_window_display": true
  },
  "varInspector": {
   "cols": {
    "lenName": 16,
    "lenType": 16,
    "lenVar": 40
   },
   "kernels_config": {
    "python": {
     "delete_cmd_postfix": "",
     "delete_cmd_prefix": "del ",
     "library": "var_list.py",
     "varRefreshCmd": "print(var_dic_list())"
    },
    "r": {
     "delete_cmd_postfix": ") ",
     "delete_cmd_prefix": "rm(",
     "library": "var_list.r",
     "varRefreshCmd": "cat(var_dic_list()) "
    }
   },
   "types_to_exclude": [
    "module",
    "function",
    "builtin_function_or_method",
    "instance",
    "_Feature"
   ],
   "window_display": false
  }
 },
 "nbformat": 4,
 "nbformat_minor": 5
}

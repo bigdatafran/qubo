{
 "cells": [
  {
   "cell_type": "markdown",
   "id": "8f17fa89",
   "metadata": {},
   "source": [
    "Sacado de  https://github.com/dwave-examples/sudoku"
   ]
  },
  {
   "cell_type": "code",
   "execution_count": 1,
   "id": "d6c3cb5c",
   "metadata": {},
   "outputs": [],
   "source": [
    "from __future__ import print_function\n",
    "\n",
    "import dimod\n",
    "import math\n",
    "import sys\n",
    "import copy\n",
    "\n",
    "from dimod.generators.constraints import combinations\n",
    "from hybrid.reference import KerberosSampler"
   ]
  },
  {
   "cell_type": "code",
   "execution_count": 13,
   "id": "915a0f85",
   "metadata": {},
   "outputs": [],
   "source": [
    "def get_label(row, col, digit):\n",
    "    \"\"\"Returns a string of the cell coordinates and the cell value in a\n",
    "    standard format.\n",
    "    \"\"\"\n",
    "    return \"{row},{col}_{digit}\".format(**locals())"
   ]
  },
  {
   "cell_type": "code",
   "execution_count": 14,
   "id": "d333be16",
   "metadata": {},
   "outputs": [
    {
     "data": {
      "text/plain": [
       "'2,3_1'"
      ]
     },
     "execution_count": 14,
     "metadata": {},
     "output_type": "execute_result"
    }
   ],
   "source": [
    "get_label(2,3,1)"
   ]
  },
  {
   "cell_type": "code",
   "execution_count": 15,
   "id": "29a2f6e4",
   "metadata": {},
   "outputs": [],
   "source": [
    "def get_matrix(filename):\n",
    "    \"\"\"Return a list of lists containing the content of the input text file.\n",
    "    Note: each line of the text file corresponds to a list. Each item in\n",
    "    the list is from splitting the line of text by the whitespace ' '.\n",
    "    \"\"\"\n",
    "    with open(filename, \"r\") as f:\n",
    "        content = f.readlines()\n",
    "\n",
    "    lines = []\n",
    "    for line in content:\n",
    "        new_line = line.rstrip()    # Strip any whitespace after last value\n",
    "\n",
    "        if new_line:\n",
    "            new_line = list(map(int, new_line.split(' ')))\n",
    "            lines.append(new_line)\n",
    "\n",
    "    return lines"
   ]
  },
  {
   "cell_type": "code",
   "execution_count": 16,
   "id": "c8786cb2",
   "metadata": {},
   "outputs": [
    {
     "data": {
      "text/plain": [
       "[[8, 2, 0, 9, 1, 0, 0, 0, 7],\n",
       " [9, 0, 0, 7, 0, 6, 8, 1, 2],\n",
       " [0, 1, 7, 8, 0, 0, 0, 9, 0],\n",
       " [0, 8, 0, 0, 0, 0, 9, 7, 0],\n",
       " [0, 5, 2, 0, 9, 3, 1, 8, 0],\n",
       " [6, 0, 0, 1, 8, 7, 0, 0, 0],\n",
       " [0, 7, 8, 0, 0, 9, 0, 5, 0],\n",
       " [3, 0, 0, 2, 5, 0, 7, 6, 0],\n",
       " [5, 0, 9, 3, 0, 1, 2, 0, 8]]"
      ]
     },
     "execution_count": 16,
     "metadata": {},
     "output_type": "execute_result"
    }
   ],
   "source": [
    "filename = \"problem.txt\"\n",
    "get_matrix(filename)"
   ]
  },
  {
   "cell_type": "code",
   "execution_count": 6,
   "id": "a826e984",
   "metadata": {},
   "outputs": [],
   "source": [
    "def is_correct(matrix):\n",
    "    \"\"\"Verify that the matrix satisfies the Sudoku constraints.\n",
    "    Args:\n",
    "      matrix(list of lists): list contains 'n' lists, where each of the 'n'\n",
    "        lists contains 'n' digits.\n",
    "    \"\"\"\n",
    "    n = len(matrix)        # Number of rows/columns\n",
    "    m = int(math.sqrt(n))  # Number of subsquare rows/columns\n",
    "    unique_digits = set(range(1, n+1))  # Digits in a solution\n",
    "\n",
    "    # Verifying rows\n",
    "    for row in matrix:\n",
    "        if set(row) != unique_digits:\n",
    "            print(\"Error in row: \", row)\n",
    "            return False\n",
    "\n",
    "    # Verifying columns\n",
    "    for j in range(n):\n",
    "        col = [matrix[i][j] for i in range(n)]\n",
    "        if set(col) != unique_digits:\n",
    "            print(\"Error in col: \", col)\n",
    "            return False\n",
    "\n",
    "    # Verifying subsquares\n",
    "    subsquare_coords = [(i, j) for i in range(m) for j in range(m)]\n",
    "    for r_scalar in range(m):\n",
    "        for c_scalar in range(m):\n",
    "            subsquare = [matrix[i + r_scalar * m][j + c_scalar * m] for i, j\n",
    "                         in subsquare_coords]\n",
    "            if set(subsquare) != unique_digits:\n",
    "                print(\"Error in sub-square: \", subsquare)\n",
    "                return False\n",
    "\n",
    "    return True"
   ]
  },
  {
   "cell_type": "code",
   "execution_count": 7,
   "id": "74debb3d",
   "metadata": {},
   "outputs": [],
   "source": [
    "def build_bqm(matrix):\n",
    "    \"\"\"Build BQM using Sudoku constraints\"\"\"\n",
    "    # Set up\n",
    "    n = len(matrix)          # Number of rows/columns in sudoku\n",
    "    m = int(math.sqrt(n))    # Number of rows/columns in sudoku subsquare\n",
    "    digits = range(1, n+1)\n",
    "\n",
    "    bqm = dimod.BinaryQuadraticModel({}, {}, 0.0, dimod.SPIN)\n",
    "\n",
    "    # Constraint: Each node can only select one digit\n",
    "    for row in range(n):\n",
    "        for col in range(n):\n",
    "            node_digits = [get_label(row, col, digit) for digit in digits]\n",
    "            one_digit_bqm = combinations(node_digits, 1)\n",
    "            bqm.update(one_digit_bqm)\n",
    "\n",
    "    # Constraint: Each row of nodes cannot have duplicate digits\n",
    "    for row in range(n):\n",
    "        for digit in digits:\n",
    "            row_nodes = [get_label(row, col, digit) for col in range(n)]\n",
    "            row_bqm = combinations(row_nodes, 1)\n",
    "            bqm.update(row_bqm)\n",
    "\n",
    "    # Constraint: Each column of nodes cannot have duplicate digits\n",
    "    for col in range(n):\n",
    "        for digit in digits:\n",
    "            col_nodes = [get_label(row, col, digit) for row in range(n)]\n",
    "            col_bqm = combinations(col_nodes, 1)\n",
    "            bqm.update(col_bqm)\n",
    "\n",
    "    # Constraint: Each sub-square cannot have duplicates\n",
    "    # Build indices of a basic subsquare\n",
    "    subsquare_indices = [(row, col) for row in range(m) for col in range(m)]\n",
    "\n",
    "    # Build full sudoku array\n",
    "    for r_scalar in range(m):\n",
    "        for c_scalar in range(m):\n",
    "            for digit in digits:\n",
    "                # Shifts for moving subsquare inside sudoku matrix\n",
    "                row_shift = r_scalar * m\n",
    "                col_shift = c_scalar * m\n",
    "\n",
    "                # Build the labels for a subsquare\n",
    "                subsquare = [get_label(row + row_shift, col + col_shift, digit)\n",
    "                             for row, col in subsquare_indices]\n",
    "                subsquare_bqm = combinations(subsquare, 1)\n",
    "                bqm.update(subsquare_bqm)\n",
    "\n",
    "    # Constraint: Fix known values\n",
    "    for row, line in enumerate(matrix):\n",
    "        for col, value in enumerate(line):\n",
    "            if value > 0:\n",
    "                # Recall that in the \"Each node can only select one digit\"\n",
    "                # constraint, for a given cell at row r and column c, we\n",
    "                # produced 'n' labels. Namely,\n",
    "                # [\"r,c_1\", \"r,c_2\", ..., \"r,c_(n-1)\", \"r,c_n\"]\n",
    "                #\n",
    "                # Due to this same constraint, we can only select one of these\n",
    "                # 'n' labels (achieved by 'generators.combinations(..)').\n",
    "                #\n",
    "                # The 1 below indicates that we are selecting the label\n",
    "                # produced by 'get_label(row, col, value)'. All other labels\n",
    "                # with the same 'row' and 'col' will be discouraged from being\n",
    "                # selected.\n",
    "                bqm.fix_variable(get_label(row, col, value), 1)\n",
    "\n",
    "    return bqm"
   ]
  },
  {
   "cell_type": "code",
   "execution_count": 8,
   "id": "ab992da0",
   "metadata": {},
   "outputs": [],
   "source": [
    "def solve_sudoku(bqm, matrix):\n",
    "    \"\"\"Solve BQM and return matrix with solution.\"\"\"\n",
    "    solution = KerberosSampler().sample(bqm,\n",
    "                                        max_iter=10,\n",
    "                                        convergence=3,\n",
    "                                        qpu_params={'label': 'Example - Sudoku'})\n",
    "    best_solution = solution.first.sample\n",
    "    solution_list = [k for k, v in best_solution.items() if v == 1]\n",
    "\n",
    "    result = copy.deepcopy(matrix)\n",
    "\n",
    "    for label in solution_list:\n",
    "        coord, digit = label.split('_')\n",
    "        row, col = map(int, coord.split(','))\n",
    "\n",
    "        if result[row][col] > 0:\n",
    "            # the returned solution is not optimal and either tried to\n",
    "            # overwrite one of the starting values, or returned more than\n",
    "            # one value for the position. In either case the solution is\n",
    "            # likely incorrect.\n",
    "            continue\n",
    "\n",
    "        result[row][col] = int(digit)\n",
    "\n",
    "    return result"
   ]
  },
  {
   "cell_type": "code",
   "execution_count": 11,
   "id": "6fb9ef0d",
   "metadata": {},
   "outputs": [
    {
     "name": "stdout",
     "output_type": "stream",
     "text": [
      "8 2 6 9 1 5 4 3 7\n",
      "9 3 5 7 4 6 8 1 2\n",
      "4 1 7 8 3 2 6 9 5\n",
      "1 8 3 5 2 4 9 7 6\n",
      "7 5 2 6 9 3 1 8 4\n",
      "6 9 4 1 8 7 5 2 3\n",
      "2 7 8 4 6 9 3 5 1\n",
      "3 4 1 2 5 8 7 6 9\n",
      "5 6 9 3 7 1 2 4 8\n",
      "The solution is correct\n"
     ]
    }
   ],
   "source": [
    "#if __name__ == \"__main__\":\n",
    "    # Read user input\n",
    "#    if len(sys.argv) > 1:\n",
    "#        filename = sys.argv[1]\n",
    "#    else:\n",
    "filename = \"problem.txt\"\n",
    "#        print(\"Warning: using default problem file, '{}'. Usage: python \"\n",
    "#              \"{} <sudoku filepath>\".format(filename, sys.argv[0]))\n",
    "\n",
    "# Read sudoku problem as matrix\n",
    "matrix = get_matrix(filename)\n",
    "\n",
    "# Solve BQM and update matrix\n",
    "bqm = build_bqm(matrix)\n",
    "result = solve_sudoku(bqm, matrix)\n",
    "\n",
    "# Print solution\n",
    "for line in result:\n",
    "    print(*line, sep=\" \")   # Print list without commas or brackets\n",
    "\n",
    "# Verify\n",
    "if is_correct(result):\n",
    "    print(\"The solution is correct\")\n",
    "else:\n",
    "    print(\"The solution is incorrect\")"
   ]
  },
  {
   "cell_type": "code",
   "execution_count": 12,
   "id": "551adc90",
   "metadata": {},
   "outputs": [
    {
     "data": {
      "text/plain": [
       "[1, 1, 1, 1]"
      ]
     },
     "execution_count": 12,
     "metadata": {},
     "output_type": "execute_result"
    }
   ],
   "source": [
    "[1]*4"
   ]
  },
  {
   "cell_type": "code",
   "execution_count": null,
   "id": "c64a5393",
   "metadata": {},
   "outputs": [],
   "source": []
  }
 ],
 "metadata": {
  "kernelspec": {
   "display_name": "Python 3 (ipykernel)",
   "language": "python",
   "name": "python3"
  },
  "language_info": {
   "codemirror_mode": {
    "name": "ipython",
    "version": 3
   },
   "file_extension": ".py",
   "mimetype": "text/x-python",
   "name": "python",
   "nbconvert_exporter": "python",
   "pygments_lexer": "ipython3",
   "version": "3.7.6"
  },
  "toc": {
   "base_numbering": 1,
   "nav_menu": {},
   "number_sections": true,
   "sideBar": true,
   "skip_h1_title": false,
   "title_cell": "Table of Contents",
   "title_sidebar": "Contents",
   "toc_cell": false,
   "toc_position": {},
   "toc_section_display": true,
   "toc_window_display": false
  },
  "varInspector": {
   "cols": {
    "lenName": 16,
    "lenType": 16,
    "lenVar": 40
   },
   "kernels_config": {
    "python": {
     "delete_cmd_postfix": "",
     "delete_cmd_prefix": "del ",
     "library": "var_list.py",
     "varRefreshCmd": "print(var_dic_list())"
    },
    "r": {
     "delete_cmd_postfix": ") ",
     "delete_cmd_prefix": "rm(",
     "library": "var_list.r",
     "varRefreshCmd": "cat(var_dic_list()) "
    }
   },
   "types_to_exclude": [
    "module",
    "function",
    "builtin_function_or_method",
    "instance",
    "_Feature"
   ],
   "window_display": false
  }
 },
 "nbformat": 4,
 "nbformat_minor": 5
}
